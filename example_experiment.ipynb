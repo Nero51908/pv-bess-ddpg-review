{
 "cells": [
  {
   "cell_type": "code",
   "execution_count": null,
   "metadata": {
    "colab": {
     "base_uri": "https://localhost:8080/"
    },
    "id": "MG6IZgRBhj7E",
    "outputId": "b8220a5b-9685-46a5-8d4a-c39b463af3f1"
   },
   "outputs": [],
   "source": [
    "import os\n",
    "import application\n",
    "import config\n",
    "from IPython.display import clear_output\n",
    "\n",
    "os.environ['WANDB_API_KEY'] = WANDB_API_Python_string # alternatively, to run without an API Key, state os.environ[\"WANDB_MODE\"] = \"offline\"\n",
    "os.environ['WANDB_SILENT'] = 'true'"
   ]
  },
  {
   "cell_type": "markdown",
   "metadata": {},
   "source": [
    "Select training data (datat) and evaluation data (datae) with key strings.\n",
    "The dataset names can be found in Python dictionary data_register in config.py file."
   ]
  },
  {
   "cell_type": "code",
   "execution_count": null,
   "metadata": {},
   "outputs": [],
   "source": [
    "## Australian Data (from AEMO)\n",
    "# DUID = 'EDENVSF1'#'BANN1''RUGBYR1'\n",
    "# datat = DUID + '_old'\n",
    "# datae = DUID + '_new'\n",
    "\n",
    "## Belgian Data (from Elia)\n",
    "datat = 'Elia_2016-2018_1h_hah'\n",
    "datae = 'Elia_2019_1h_hah'"
   ]
  },
  {
   "cell_type": "markdown",
   "metadata": {},
   "source": [
    "bess_properties is exposed for training and evaluation scripts to possibly use different BESS properties.\n",
    "in this example, this is used to vary the BESS energy capacity bcap, but both training and evaluation use the same BESS properties once bcap is updated in the for loop."
   ]
  },
  {
   "cell_type": "code",
   "execution_count": null,
   "metadata": {
    "id": "7mwRNBUZHZVa"
   },
   "outputs": [],
   "source": [
    "bess_properties = config.bess_properties\n",
    "for bcap in [0.5, 0.4, 0.3, 0.2, 0.1]:\n",
    "  bess_properties['energy_capacity_puh'] = bcap\n",
    "  for i in range(10):\n",
    "    print(f'{i+1}')\n",
    "    wandb_run_id = application.train_ddpg_tracked_by_wandb(bcap=bcap, dataset=datat)\n",
    "    csv_path     = application.eval_ddpg(run_id=wandb_run_id, dataset=datae, bess_properties=bess_properties)\n",
    "    clear_output()"
   ]
  },
  {
   "cell_type": "markdown",
   "metadata": {},
   "source": [
    "models/ folder contains the trained model parameters (in torch) for loading and further use as a result of train_ddpg_tracked_by_wandb().\n",
    "evaluation/ folder contains the recorded simuilations in csv files for each trained model as a result of eval_ddpg()\n",
    "a csv file keeping a record of the evaluation results will appear in the current directory."
   ]
  },
  {
   "cell_type": "code",
   "execution_count": null,
   "metadata": {
    "id": "qArqYDIUfnog"
   },
   "outputs": [],
   "source": [
    "# archive the results with zip command:\n",
    "source_path = f'experiment_results.zip'\n",
    "!zip  -qr {source_path} models/ evaluation/ *.csv"
   ]
  }
 ],
 "metadata": {
  "accelerator": "GPU",
  "colab": {
   "gpuType": "A100",
   "machine_shape": "hm",
   "provenance": []
  },
  "kernelspec": {
   "display_name": "Python 3 (ipykernel)",
   "language": "python",
   "name": "python3"
  },
  "language_info": {
   "codemirror_mode": {
    "name": "ipython",
    "version": 3
   },
   "file_extension": ".py",
   "mimetype": "text/x-python",
   "name": "python",
   "nbconvert_exporter": "python",
   "pygments_lexer": "ipython3",
   "version": "3.11.9"
  }
 },
 "nbformat": 4,
 "nbformat_minor": 4
}
